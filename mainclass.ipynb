{
 "cells": [
  {
   "cell_type": "code",
   "execution_count": 1,
   "id": "8721ee98",
   "metadata": {},
   "outputs": [],
   "source": [
    "from Mul_Fun import multiple_function"
   ]
  },
  {
   "cell_type": "code",
   "execution_count": 3,
   "id": "c2a0e1e3",
   "metadata": {},
   "outputs": [
    {
     "name": "stdout",
     "output_type": "stream",
     "text": [
      "sub-fields in AI are: \n",
      "Machine Learning\n",
      "Neural Networks\n",
      "vision\n",
      "robotics\n",
      "speech processing\n",
      "natural language processing\n"
     ]
    }
   ],
   "source": [
    "multiple_function.subfields()"
   ]
  },
  {
   "cell_type": "code",
   "execution_count": 4,
   "id": "0d273e8f",
   "metadata": {},
   "outputs": [
    {
     "name": "stdout",
     "output_type": "stream",
     "text": [
      "Enter a number: 52452\n",
      "52452 is even number\n"
     ]
    }
   ],
   "source": [
    "multiple_function.oddeven()"
   ]
  },
  {
   "cell_type": "code",
   "execution_count": null,
   "id": "2a17bfbd",
   "metadata": {},
   "outputs": [],
   "source": []
  }
 ],
 "metadata": {
  "kernelspec": {
   "display_name": "Python 3 (ipykernel)",
   "language": "python",
   "name": "python3"
  },
  "language_info": {
   "codemirror_mode": {
    "name": "ipython",
    "version": 3
   },
   "file_extension": ".py",
   "mimetype": "text/x-python",
   "name": "python",
   "nbconvert_exporter": "python",
   "pygments_lexer": "ipython3",
   "version": "3.11.4"
  }
 },
 "nbformat": 4,
 "nbformat_minor": 5
}
