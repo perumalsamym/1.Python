{
 "cells": [
  {
   "cell_type": "code",
   "execution_count": 1,
   "id": "fc7d4639",
   "metadata": {},
   "outputs": [],
   "source": [
    "# Create functions"
   ]
  },
  {
   "cell_type": "code",
   "execution_count": 6,
   "id": "ed8ef487",
   "metadata": {},
   "outputs": [],
   "source": [
    "def subfields():\n",
    "    print(\"sub-fields in AI are: \")\n",
    "    disreslut=['Machine Learning','Neural Networks','vision','robotics','speech processing','natural language processing']\n",
    "    for i in disreslut:\n",
    "        print(i)    "
   ]
  },
  {
   "cell_type": "code",
   "execution_count": 7,
   "id": "02d08fd7",
   "metadata": {},
   "outputs": [
    {
     "name": "stdout",
     "output_type": "stream",
     "text": [
      "sub-fields in AI are: \n",
      "Machine Learning\n",
      "Neural Networks\n",
      "vision\n",
      "robotics\n",
      "speech processing\n",
      "natural language processing\n"
     ]
    }
   ],
   "source": [
    "subfields()"
   ]
  },
  {
   "cell_type": "code",
   "execution_count": 13,
   "id": "529d6006",
   "metadata": {},
   "outputs": [],
   "source": [
    "def oddeven():\n",
    "    evenfind=int(input(\"Enter a number: \"))\n",
    "    if (evenfind%2) ==0:\n",
    "        print(evenfind, \"is even number\")\n",
    "    else:\n",
    "        print(evenfind, \"is not even number\")    "
   ]
  },
  {
   "cell_type": "code",
   "execution_count": 37,
   "id": "b6639f3a",
   "metadata": {},
   "outputs": [
    {
     "name": "stdout",
     "output_type": "stream",
     "text": [
      "Enter a number: 52452\n",
      "52452 is even number\n"
     ]
    }
   ],
   "source": [
    "oddeven()"
   ]
  },
  {
   "cell_type": "code",
   "execution_count": 33,
   "id": "400ed771",
   "metadata": {},
   "outputs": [],
   "source": [
    "def elegible():\n",
    "    find_gender=input(\"Your Gender:\")\n",
    "    find_gender_Age =int(input(\"Your Age:\"))\n",
    "    if (find_gender==\"male\"):\n",
    "        if find_gender_Age <18:\n",
    "            print(\"Not Eligible\")\n",
    "        else:\n",
    "            print(\"Eligible\")\n",
    "    elif(find_gender==\"female\"):\n",
    "        if find_gender_Age <18:\n",
    "            print(\"Not Eligible\")\n",
    "        else:\n",
    "            print(\"Eligible\")\n",
    "   "
   ]
  },
  {
   "cell_type": "code",
   "execution_count": 36,
   "id": "92a3deb5",
   "metadata": {},
   "outputs": [
    {
     "name": "stdout",
     "output_type": "stream",
     "text": [
      "Your Gender:male\n",
      "Your Age:21\n",
      "Eligible\n"
     ]
    }
   ],
   "source": [
    "elegible()"
   ]
  },
  {
   "cell_type": "code",
   "execution_count": null,
   "id": "b17ddb58",
   "metadata": {},
   "outputs": [],
   "source": [
    "# calculate the percentage of your 10th mark"
   ]
  },
  {
   "cell_type": "code",
   "execution_count": 1,
   "id": "85070475",
   "metadata": {},
   "outputs": [],
   "source": [
    "def percentage():\n",
    "    mark1=int(input(\"Subject1= \"))\n",
    "    mark2=int(input(\"Subject2= \"))\n",
    "    mark3=int(input(\"Subject3= \"))\n",
    "    mark4=int(input(\"Subject4= \"))\n",
    "    mark5=int(input(\"Subject5= \"))\n",
    "    tot=mark1+mark2+mark3+mark4+mark5\n",
    "    print(\"Total : \",tot)\n",
    "    print(\"Percentage : \",((tot / 500) * 100))"
   ]
  },
  {
   "cell_type": "code",
   "execution_count": 2,
   "id": "08cd64fc",
   "metadata": {},
   "outputs": [
    {
     "name": "stdout",
     "output_type": "stream",
     "text": [
      "Subject1= 98\n",
      "Subject2= 87\n",
      "Subject3= 95\n",
      "Subject4= 95\n",
      "Subject5= 93\n",
      "Total :  468\n",
      "Percentage :  93.60000000000001\n"
     ]
    }
   ],
   "source": [
    "percentage()"
   ]
  },
  {
   "cell_type": "code",
   "execution_count": 3,
   "id": "fe76c25a",
   "metadata": {},
   "outputs": [],
   "source": [
    "#print area and perimeter of triangle using class and functions"
   ]
  },
  {
   "cell_type": "code",
   "execution_count": 5,
   "id": "b0aa0a8d",
   "metadata": {},
   "outputs": [],
   "source": [
    "def triangle():\n",
    "    intheight=int(input(\"Height: \"))\n",
    "    intBreadth=int(input(\"Breadth: \"))\n",
    "    print(\"Area formula:  (intheight*intBreadth)/2\")\n",
    "    print(\"Area of Triangle:: \", (intheight*intBreadth)/2)\n",
    "    Height1=int(input(\"Height1: \"))\n",
    "    Height2=int(input(\"Height2: \"))\n",
    "    Breadth=int(input(\"Breadth: \"))\n",
    "    print(\"Perimeter formula: Height1+Height2+Breadth\")\n",
    "    print(\"Perimeter of Triangle :\", Height1+Height2+Breadth)"
   ]
  },
  {
   "cell_type": "code",
   "execution_count": 6,
   "id": "e46f108a",
   "metadata": {},
   "outputs": [
    {
     "name": "stdout",
     "output_type": "stream",
     "text": [
      "Height: 32\n",
      "Breadth: 34\n",
      "Area formula:  (intheight*intBreadth)/2\n",
      "Area of Triangle::  544.0\n",
      "Height1: 2\n",
      "Height2: 2\n",
      "Breadth: 4\n",
      "Perimeter formula: Height1+Height2+Breadth\n",
      "Perimeter of Triangle : 8\n"
     ]
    }
   ],
   "source": [
    "triangle()"
   ]
  },
  {
   "cell_type": "code",
   "execution_count": null,
   "id": "da812fc3",
   "metadata": {},
   "outputs": [],
   "source": []
  }
 ],
 "metadata": {
  "kernelspec": {
   "display_name": "Python 3 (ipykernel)",
   "language": "python",
   "name": "python3"
  },
  "language_info": {
   "codemirror_mode": {
    "name": "ipython",
    "version": 3
   },
   "file_extension": ".py",
   "mimetype": "text/x-python",
   "name": "python",
   "nbconvert_exporter": "python",
   "pygments_lexer": "ipython3",
   "version": "3.11.4"
  }
 },
 "nbformat": 4,
 "nbformat_minor": 5
}
