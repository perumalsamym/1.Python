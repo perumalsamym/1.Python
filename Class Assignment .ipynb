{
 "cells": [
  {
   "cell_type": "code",
   "execution_count": 5,
   "id": "6b13d1b0",
   "metadata": {},
   "outputs": [],
   "source": [
    "class clsSubfieldsInAI():\n",
    "    def fnSubfields():\n",
    "        print(\"Sub-fields in AI are:\")\n",
    "        lst=['Machine Learning','Neural Networks','vision','robotics','speech processing','natural language processing']\n",
    "        for i in lst:\n",
    "            print(i)        "
   ]
  },
  {
   "cell_type": "code",
   "execution_count": 6,
   "id": "0d596136",
   "metadata": {},
   "outputs": [
    {
     "name": "stdout",
     "output_type": "stream",
     "text": [
      "Sub-fields in AI are:\n",
      "Machine Learning\n",
      "Neural Networks\n",
      "vision\n",
      "robotics\n",
      "speech processing\n",
      "natural language processing\n"
     ]
    }
   ],
   "source": [
    "clsSubfieldsInAI.fnSubfields()"
   ]
  },
  {
   "cell_type": "code",
   "execution_count": 7,
   "id": "a86b47aa",
   "metadata": {},
   "outputs": [],
   "source": [
    "class clsOddEven():\n",
    "    def fnOddEven():\n",
    "        ev=int(input(\"Enter a number:\"))\n",
    "        if ev%2 ==0:\n",
    "            print(ev,\"is Even number\")\n",
    "        else:\n",
    "            print(ev,\"is not even number\")        "
   ]
  },
  {
   "cell_type": "code",
   "execution_count": 8,
   "id": "2e2bb2c6",
   "metadata": {},
   "outputs": [
    {
     "name": "stdout",
     "output_type": "stream",
     "text": [
      "Enter a number:52452\n",
      "52452 is Even number\n"
     ]
    }
   ],
   "source": [
    "clsOddEven.fnOddEven()"
   ]
  },
  {
   "cell_type": "code",
   "execution_count": 11,
   "id": "9477f976",
   "metadata": {},
   "outputs": [],
   "source": [
    "class clsElegiblityForMarriage():\n",
    "    def fnElegible():\n",
    "        gen=input(\"Your Gender: \")\n",
    "        ag=int(input(\"Your Age: \"))\n",
    "        if(gen=='male'):\n",
    "            if(ag<18):\n",
    "                print(\"NOT ELIGIBLE\")\n",
    "            else:\n",
    "                 print(\"ELIGIBLE\")\n",
    "        elif(gen=='female'):\n",
    "            if(ag<18):\n",
    "                print(\"NOT ELIGIBLE\")\n",
    "            else:\n",
    "                 print(\"ELIGIBLE\")"
   ]
  },
  {
   "cell_type": "code",
   "execution_count": 13,
   "id": "cf1d9ab3",
   "metadata": {},
   "outputs": [
    {
     "name": "stdout",
     "output_type": "stream",
     "text": [
      "Your Gender: male\n",
      "Your Age: 19\n",
      "ELIGIBLE\n"
     ]
    }
   ],
   "source": [
    "clsElegiblityForMarriage.fnElegible()"
   ]
  },
  {
   "cell_type": "code",
   "execution_count": 14,
   "id": "aaf84055",
   "metadata": {},
   "outputs": [],
   "source": [
    "class clsFindPercent():\n",
    "    def fnpercentage():\n",
    "        mark1=int(input(\"Subject1= \"))\n",
    "        mark2=int(input(\"Subject2= \"))\n",
    "        mark3=int(input(\"Subject3= \"))\n",
    "        mark4=int(input(\"Subject4= \"))\n",
    "        mark5=int(input(\"Subject5= \"))\n",
    "        tot=mark1+mark2+mark3+mark4+mark5\n",
    "        print(\"Total : \",tot)\n",
    "        print(\"Percentage : \",((tot / 500) * 100))"
   ]
  },
  {
   "cell_type": "code",
   "execution_count": 15,
   "id": "9b59b975",
   "metadata": {},
   "outputs": [
    {
     "name": "stdout",
     "output_type": "stream",
     "text": [
      "Subject1= 98\n",
      "Subject2= 87\n",
      "Subject3= 95\n",
      "Subject4= 95\n",
      "Subject5= 93\n",
      "Total :  468\n",
      "Percentage :  93.60000000000001\n"
     ]
    }
   ],
   "source": [
    "clsFindPercent.fnpercentage()"
   ]
  },
  {
   "cell_type": "code",
   "execution_count": 17,
   "id": "c149522e",
   "metadata": {},
   "outputs": [],
   "source": [
    "class clstriangle():\n",
    "    def fntriangle():\n",
    "        intheight=int(input(\"Height: \"))\n",
    "        intBreadth=int(input(\"Breadth: \"))\n",
    "        print(\"Area formula:  (intheight*intBreadth)/2\")\n",
    "        print(\"Area of Triangle:: \", (intheight*intBreadth)/2)\n",
    "        Height1=int(input(\"Height1: \"))\n",
    "        Height2=int(input(\"Height2: \"))\n",
    "        Breadth=int(input(\"Breadth: \"))\n",
    "        print(\"Perimeter formula: Height1+Height2+Breadth\")\n",
    "        print(\"Perimeter of Triangle :\", Height1+Height2+Breadth)"
   ]
  },
  {
   "cell_type": "code",
   "execution_count": 18,
   "id": "56d13f43",
   "metadata": {},
   "outputs": [
    {
     "name": "stdout",
     "output_type": "stream",
     "text": [
      "Height: 32\n",
      "Breadth: 34\n",
      "Area formula:  (intheight*intBreadth)/2\n",
      "Area of Triangle::  544.0\n",
      "Height1: 2\n",
      "Height2: 2\n",
      "Breadth: 4\n",
      "Perimeter formula: Height1+Height2+Breadth\n",
      "Perimeter of Triangle : 8\n"
     ]
    }
   ],
   "source": [
    "clstriangle.fntriangle()"
   ]
  },
  {
   "cell_type": "code",
   "execution_count": null,
   "id": "c508702a",
   "metadata": {},
   "outputs": [],
   "source": []
  }
 ],
 "metadata": {
  "kernelspec": {
   "display_name": "Python 3 (ipykernel)",
   "language": "python",
   "name": "python3"
  },
  "language_info": {
   "codemirror_mode": {
    "name": "ipython",
    "version": 3
   },
   "file_extension": ".py",
   "mimetype": "text/x-python",
   "name": "python",
   "nbconvert_exporter": "python",
   "pygments_lexer": "ipython3",
   "version": "3.11.4"
  }
 },
 "nbformat": 4,
 "nbformat_minor": 5
}
