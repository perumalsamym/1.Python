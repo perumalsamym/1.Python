{
 "cells": [
  {
   "cell_type": "code",
   "execution_count": null,
   "id": "1379fcf7",
   "metadata": {},
   "outputs": [],
   "source": [
    "#print Statement"
   ]
  },
  {
   "cell_type": "code",
   "execution_count": 15,
   "id": "75056e80",
   "metadata": {},
   "outputs": [
    {
     "name": "stdout",
     "output_type": "stream",
     "text": [
      "HOPE AI\n"
     ]
    }
   ],
   "source": [
    "print(\"HOPE AI\")"
   ]
  },
  {
   "cell_type": "code",
   "execution_count": 16,
   "id": "98d9d638",
   "metadata": {},
   "outputs": [],
   "source": [
    "# Buy input "
   ]
  },
  {
   "cell_type": "code",
   "execution_count": 17,
   "id": "0ae7f3af",
   "metadata": {},
   "outputs": [
    {
     "name": "stdout",
     "output_type": "stream",
     "text": [
      "Enter your institute name? :HOPE AI\n"
     ]
    }
   ],
   "source": [
    "Inst_Name=input(\"Enter your institute name? :\")"
   ]
  },
  {
   "cell_type": "code",
   "execution_count": 18,
   "id": "d29df40b",
   "metadata": {},
   "outputs": [],
   "source": [
    "#Buy inputs"
   ]
  },
  {
   "cell_type": "code",
   "execution_count": 3,
   "id": "3d356f41",
   "metadata": {},
   "outputs": [
    {
     "name": "stdout",
     "output_type": "stream",
     "text": [
      "Enter your name: M.perumalsamy\n",
      "Enter your age: 44\n",
      "Enter your school name: PKN School\n",
      "Enter your drgree: MCA\n"
     ]
    }
   ],
   "source": [
    "user_Name=input(\"Enter your name: \")\n",
    "user_age=input(\"Enter your age: \")\n",
    "user_school_Name=input(\"Enter your school name: \")\n",
    "user_drgree=input(\"Enter your drgree: \")"
   ]
  },
  {
   "cell_type": "code",
   "execution_count": null,
   "id": "fb99773a",
   "metadata": {},
   "outputs": [],
   "source": [
    "#Addition"
   ]
  },
  {
   "cell_type": "code",
   "execution_count": 12,
   "id": "98dfac1d",
   "metadata": {},
   "outputs": [
    {
     "name": "stdout",
     "output_type": "stream",
     "text": [
      "A_value = 43\n",
      "B_Value = 34\n",
      "add = 77\n"
     ]
    }
   ],
   "source": [
    "A_value=43\n",
    "B_Value=34\n",
    "sum_value=A_value+B_Value\n",
    "print(\"A_value =\",A_value)\n",
    "print(\"B_Value =\",B_Value)\n",
    "print(\"add =\",sum_value)"
   ]
  },
  {
   "cell_type": "code",
   "execution_count": 14,
   "id": "d43bac18",
   "metadata": {},
   "outputs": [],
   "source": [
    "#Subtraction"
   ]
  },
  {
   "cell_type": "code",
   "execution_count": 13,
   "id": "e6ef8039",
   "metadata": {},
   "outputs": [
    {
     "name": "stdout",
     "output_type": "stream",
     "text": [
      "A_value = 43\n",
      "B_Value = 34\n",
      "Sub = 9\n"
     ]
    }
   ],
   "source": [
    "A_value=43\n",
    "B_Value=34\n",
    "Sub_value=A_value-B_Value\n",
    "print(\"A_value =\",A_value)\n",
    "print(\"B_Value =\",B_Value)\n",
    "print(\"Sub =\",Sub_value)"
   ]
  },
  {
   "cell_type": "code",
   "execution_count": 19,
   "id": "6683b8c5",
   "metadata": {},
   "outputs": [],
   "source": [
    "#Multiplication"
   ]
  },
  {
   "cell_type": "code",
   "execution_count": 23,
   "id": "bb220b70",
   "metadata": {},
   "outputs": [
    {
     "name": "stdout",
     "output_type": "stream",
     "text": [
      "A_value = 63\n",
      "B_Value = 97\n",
      "Mul = 6111\n"
     ]
    }
   ],
   "source": [
    "A_value=63\n",
    "B_Value=97\n",
    "Mul_value=A_value*B_Value\n",
    "print(\"A_value =\",A_value)\n",
    "print(\"B_Value =\",B_Value)\n",
    "print(\"Mul =\",Mul_value)"
   ]
  },
  {
   "cell_type": "code",
   "execution_count": 24,
   "id": "7548da7e",
   "metadata": {},
   "outputs": [],
   "source": [
    "#Division"
   ]
  },
  {
   "cell_type": "code",
   "execution_count": 25,
   "id": "6632cd81",
   "metadata": {},
   "outputs": [
    {
     "name": "stdout",
     "output_type": "stream",
     "text": [
      "A_value = 76\n",
      "B_Value = 31\n",
      "Float Div = 2.4516129032258065\n"
     ]
    }
   ],
   "source": [
    "A_value=76\n",
    "B_Value=31\n",
    "Div_value=A_value/B_Value\n",
    "print(\"A_value =\",A_value)\n",
    "print(\"B_Value =\",B_Value)\n",
    "print(\"Float Div =\",Div_value)"
   ]
  },
  {
   "cell_type": "code",
   "execution_count": 26,
   "id": "b92a04e1",
   "metadata": {},
   "outputs": [],
   "source": [
    "#Floor division"
   ]
  },
  {
   "cell_type": "code",
   "execution_count": 32,
   "id": "3d3d2add",
   "metadata": {},
   "outputs": [
    {
     "name": "stdout",
     "output_type": "stream",
     "text": [
      "A_value = 76\n",
      "B_Value = 31\n",
      "Floor Div = 2\n"
     ]
    }
   ],
   "source": [
    "A_value=76\n",
    "B_Value=31\n",
    "Div_value=A_value//B_Value\n",
    "print(\"A_value =\",A_value)\n",
    "print(\"B_Value =\",B_Value)\n",
    "print(\"Floor Div =\",Div_value)"
   ]
  },
  {
   "cell_type": "code",
   "execution_count": 33,
   "id": "6792001c",
   "metadata": {},
   "outputs": [],
   "source": [
    "#Modulo"
   ]
  },
  {
   "cell_type": "code",
   "execution_count": 34,
   "id": "7febfdba",
   "metadata": {},
   "outputs": [
    {
     "name": "stdout",
     "output_type": "stream",
     "text": [
      "A_value = 76\n",
      "B_Value = 31\n",
      "Modulo Div = 14\n"
     ]
    }
   ],
   "source": [
    "A_value=76\n",
    "B_Value=31\n",
    "Modulo_value=A_value%B_Value\n",
    "print(\"A_value =\",A_value)\n",
    "print(\"B_Value =\",B_Value)\n",
    "print(\"Modulo Div =\",Modulo_value)"
   ]
  },
  {
   "cell_type": "code",
   "execution_count": 35,
   "id": "802450bb",
   "metadata": {},
   "outputs": [],
   "source": [
    "#Power"
   ]
  },
  {
   "cell_type": "code",
   "execution_count": 36,
   "id": "0da4eae3",
   "metadata": {},
   "outputs": [
    {
     "name": "stdout",
     "output_type": "stream",
     "text": [
      "A_value = 4\n",
      "B_Value = 4\n",
      "Modulo Div = 256\n"
     ]
    }
   ],
   "source": [
    "A_value=4\n",
    "B_Value=4\n",
    "Power_value=pow(A_value,B_Value)\n",
    "print(\"A_value =\",A_value)\n",
    "print(\"B_Value =\",B_Value)\n",
    "print(\"Modulo Div =\",Power_value)"
   ]
  },
  {
   "cell_type": "code",
   "execution_count": null,
   "id": "d5dc7a1a",
   "metadata": {},
   "outputs": [],
   "source": []
  }
 ],
 "metadata": {
  "kernelspec": {
   "display_name": "Python 3 (ipykernel)",
   "language": "python",
   "name": "python3"
  },
  "language_info": {
   "codemirror_mode": {
    "name": "ipython",
    "version": 3
   },
   "file_extension": ".py",
   "mimetype": "text/x-python",
   "name": "python",
   "nbconvert_exporter": "python",
   "pygments_lexer": "ipython3",
   "version": "3.11.4"
  }
 },
 "nbformat": 4,
 "nbformat_minor": 5
}
